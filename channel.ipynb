{
 "cells": [
  {
   "cell_type": "code",
   "execution_count": 1,
   "metadata": {
    "collapsed": false
   },
   "outputs": [
    {
     "name": "stdout",
     "output_type": "stream",
     "text": [
      "Populating the interactive namespace from numpy and matplotlib\n"
     ]
    }
   ],
   "source": [
    "%pylab inline\n",
    "import scipy.constants as C\n",
    "import numpy as np\n",
    "from matplotlib import pyplot\n",
    "\n"
   ]
  },
  {
   "cell_type": "code",
   "execution_count": 2,
   "metadata": {
    "collapsed": false
   },
   "outputs": [],
   "source": [
    "#members give hydrogen thermodynamic properties as a function of temperature in SI units\n",
    "#presently using NIST properties without accounting for changes due to pressure,\n",
    "#for an ideal gas, enthalpy is independent of pressure\n",
    "#for an ideal gas, entropy decreases with pressure with a factor of -nR/P\n",
    "#http://webbook.nist.gov/cgi/cbook.cgi?ID=C1333740&Type=JANAFG&Table=on#JANAFG\n",
    "class Hydrogen:\n",
    "    #returns constants for equations for use in internal functions\n",
    "    def getConstants(T):\n",
    "        if T < 298:\n",
    "            raise ValueError('temperature out of range. must be greater than 298 K', T)\n",
    "        elif T < 1000:\n",
    "            A = 33.066178\n",
    "            B = -11.363417\n",
    "            C = 11.432816\n",
    "            D = -2.772874\n",
    "            E = -0.158558\n",
    "            F = -9.980797\n",
    "            G = 172.707974\n",
    "            H = 0\n",
    "        elif T < 2500:\n",
    "            A = 18.563083\n",
    "            B = 12.257357\n",
    "            C = -2.859786\n",
    "            D = 0.268238\n",
    "            E = 1.977990\n",
    "            F = -1.147438\n",
    "            G = 156.288133\n",
    "            H = 0\n",
    "        elif T <= 6000:\n",
    "            A = 43.413560\n",
    "            B = -4.293079\n",
    "            C = 1.272428\n",
    "            D = -0.096876\n",
    "            E = -20.533862\n",
    "            F = -38.515158\n",
    "            G = 162.081354\n",
    "            H = 0\n",
    "        else:\n",
    "            raise ValueError('temperature out of range. must be less than 6000 K', T)\n",
    "        \n",
    "        return A, B, C, D, E, F, G, H\n",
    "    \n",
    "    #molecular mass in kilograms\n",
    "    def MM():\n",
    "        return 2.01588 * C.u\n",
    "    \n",
    "    #heat capacity ratio C_p / C_v\n",
    "    def gamma(T):\n",
    "        #can be considered constant since it varies very little with temperature and pressure\n",
    "        return 1.40\n",
    "    \n",
    "    #heat capacity at standard pressure in J/mol*K\n",
    "    def C_p(T):\n",
    "        A, B, C, D, E, F, G, H = Hydrogen.getConstants(T)\n",
    "        t = T / 1000\n",
    "        return  A + B*t + C*t**2 + D*t**3 + E/t**2\n",
    "    \n",
    "    #constant volume heat capacity in J/mol*K\n",
    "    def C_v(T):\n",
    "        return Hydrogen.C_p(T) / Hydrogen.gamma(T)\n",
    "        \n",
    "    #enthalpy relative to STP in J/mol*K\n",
    "    def H(T):\n",
    "        A, B, C, D, E, F, G, H = Hydrogen.getConstants(T)\n",
    "        t = T / 1000\n",
    "        return A*t + B*t**2/2 + C*t**3/3 + D*t**4/4 - E/t + F - H\n",
    "    \n",
    "    #standard entropy in J/mol*K\n",
    "    def S(T):\n",
    "        A, B, C, D, E, F, G, H = Hydrogen.getConstants(T)\n",
    "        t = T / 1000\n",
    "        return A*log(t) + B*t + C*t**2/2 + D*t**3/3 - E/(2*t**2) + G\n",
    "        \n",
    "    #returns false if a value doesn't match the values in the NIST table\n",
    "    def runTests():\n",
    "        tests = [\n",
    "        [298.0, 28.84, 130.7, -0.00],\n",
    "        [300.0, 28.85, 130.9, 0.05],\n",
    "        [700.0, 29.44, 155.6, 11.75],\n",
    "        [800.0, 29.62, 159.5, 14.70],\n",
    "        [1000., 30.21, 166.2, 20.68],\n",
    "        [1300., 31.42, 174.3, 29.92],\n",
    "        [1700., 33.14, 182.9, 42.83],\n",
    "        [2100., 34.62, 190.1, 56.40],\n",
    "        [3200., 37.53, 205.3, 96.20],\n",
    "        [6000., 41.97, 230.3, 208.3]\n",
    "        ]\n",
    "        \n",
    "        passed = True\n",
    "        \n",
    "        for test in tests:\n",
    "            T = test[0]\n",
    "            if abs(Hydrogen.C_p(T) - test[1]) > 0.01:\n",
    "                print(test, 'C_p')\n",
    "                passed = False\n",
    "            if abs(Hydrogen.S(T) - test[2]) > 0.1:\n",
    "                print(test, 'S')\n",
    "                passed = False\n",
    "            if abs(Hydrogen.H(T) - test[3]) > 0.05:\n",
    "                print(test, 'H')\n",
    "                passed = False\n",
    "            if abs(Hydrogen.gamma(T) - 7/5) > 0.02: #7/5 is the theoretical value for a diatomic gas\n",
    "                print(test, 'gamma')\n",
    "                passed = False\n",
    "            if abs(Hydrogen.gamma(T) - Hydrogen.C_p(T) / Hydrogen.C_v(T)) > 0.0001:\n",
    "                print(test, 'C_v')\n",
    "                passed = False\n",
    "            \n",
    "        return passed\n",
    "        "
   ]
  },
  {
   "cell_type": "code",
   "execution_count": 3,
   "metadata": {
    "collapsed": false
   },
   "outputs": [
    {
     "name": "stdout",
     "output_type": "stream",
     "text": [
      "tests passed for hydrogen properties class\n"
     ]
    }
   ],
   "source": [
    "H2 = Hydrogen\n",
    "\n",
    "testPassed = H2.runTests()\n",
    "\n",
    "if testPassed:\n",
    "    print(\"tests passed for hydrogen properties class\")\n",
    "else:\n",
    "    print(\"TEST FAILED. THIS IS BAD. FIX THIS.\")"
   ]
  },
  {
   "cell_type": "code",
   "execution_count": 4,
   "metadata": {
    "collapsed": false
   },
   "outputs": [
    {
     "name": "stdout",
     "output_type": "stream",
     "text": [
      "100\n",
      "200\n",
      "300\n",
      "400\n",
      "500\n",
      "600\n",
      "700\n",
      "800\n",
      "900\n",
      "1000\n"
     ]
    }
   ],
   "source": [
    "######### adjustable parameters #########\n",
    "\n",
    "power = 230e6 #core power in watts\n",
    "m_dot = 6 #mass flow rate in kg / s\n",
    "T_0 = 500 #inlet temperatur in kelvins\n",
    "P_0 = 100e3 #inlet pressure in pascals\n",
    "\n",
    "#########################################\n",
    "\n",
    "rho_0 = H2.MM() * P_0 / (C.k * T_0) #inlet density in kg/m^3 from ideal gas law\n",
    "v_0 = m_dot / rho_0   #inlet velocity in m/s\n",
    "Ma_0 = (v_0**2 * H2.MM() / (H2.gamma(T_0) * C.k * T_0))**0.5 #inital Mach number using ideal gas speed of sound\n",
    "\n",
    "Q = [0] #heat added up  to a point\n",
    "T = [T_0] #temperature at a point\n",
    "v = [v_0] #velocity at a point\n",
    "rho = [rho_0] #density at a point\n",
    "Ma = [Ma_0] #mach number at a point\n",
    "\n",
    "N = int(1e3) #number of slices; higher N means finer results\n",
    "\n",
    "delta_q = power / m_dot #total heat per unit mass added in J/kg\n",
    "dQ = delta_q / N #heat added per unit mass at each step in J/kg\n",
    "\n",
    "#for each slice of coolant in the channel, add a constant amount of heat\n",
    "#and apply equations for Rayleigh flow to update temperature and velocity\n",
    "#Rayleigh flow assumes ideal gas, no friction, constant channel area\n",
    "\n",
    "reachedMachOne = (Ma[-1] == 1)\n",
    "i = 0\n",
    "while i < N and not reachedMachOne:\n",
    "    i += 1\n",
    "    if i % 10**int(log(N/3)/log(10)) == 0: #print progress\n",
    "        print(i)\n",
    "    \n",
    "    C_p = H2.C_p(T[-1]) / H2.MM() / C.N_A #C_p in per kg units instead of per mol\n",
    "    \n",
    "    Mach_sq = v[-1]**2 * H2.MM() / (H2.gamma(T[-1]) * C.k * T[-1])\n",
    "    dv = v[-1] * dQ / (C_p * T[-1]) / (1 - Mach_sq) #Eq. 11.121 from Munson Fluid Dynamics Ch. 11.5.2\n",
    "    dT = (dQ - v[-1]*dv) / C_p #heat not contributing to velocity goes into enthalpy\n",
    "    \n",
    "    #update values\n",
    "    Ma.append(Mach_sq**0.5)\n",
    "    Q.append(Q[-1] + dQ)\n",
    "    T.append(T[-1] + dT)\n",
    "    v.append(v[-1] + dv)\n",
    "    #using the fact that rho * v is constant by mass flow rate continuity\n",
    "    rho.append(rho[-1] * v[-2] / v[-1]) #v[-1] is the updated velocity here, v[-2] is v before the update\n",
    "    \n",
    "    #check if further heat addition is possible, otherwise nothing can change; Rayleigh flow cannot cross Mach 1\n",
    "    if (Ma[-1] < 1) != (Ma[-2] < 1):\n",
    "        reachedMachOne = True\n",
    "        \n",
    "if reachedMachOne:\n",
    "    print(\"reached Mach 1 at step {0} out of {1}\".format(i, N))\n",
    "    Ma.pop() #remove bad data\n",
    "    Q.pop()\n",
    "    T.pop()\n",
    "    v.pop()\n",
    "    rho.pop()\n"
   ]
  },
  {
   "cell_type": "code",
   "execution_count": 5,
   "metadata": {
    "collapsed": false
   },
   "outputs": [
    {
     "name": "stdout",
     "output_type": "stream",
     "text": [
      "[500, 502.63522529124776, 505.2702959308256, 507.90521218985066, 510.5399741741999]\n",
      "[2826.556425312308, 2828.640542213204, 2830.7243601206574, 2832.807879409429, 2834.8911004527486]\n"
     ]
    },
    {
     "data": {
      "image/png": "[encoded data removed]",
      "text/plain": [
       "<matplotlib.figure.Figure at 0x7fcf63060668>"
      ]
     },
     "metadata": {},
     "output_type": "display_data"
    }
   ],
   "source": [
    "plot(Q, T)\n",
    "\n",
    "print(T[:5])\n",
    "print(T[-5:])"
   ]
  },
  {
   "cell_type": "code",
   "execution_count": 6,
   "metadata": {
    "collapsed": false
   },
   "outputs": [
    {
     "name": "stdout",
     "output_type": "stream",
     "text": [
      "[123.73444644900628, 124.39145271440846, 125.04847232304681, 125.70550534550368, 126.36255181108321]\n",
      "[724.7444751938618, 725.3025109534829, 725.8605038710218, 726.4184540374033, 726.976361543166]\n"
     ]
    },
    {
     "data": {
      "image/png": "[encoded data removed]",
      "text/plain": [
       "<matplotlib.figure.Figure at 0x7fcf60959e80>"
      ]
     },
     "metadata": {},
     "output_type": "display_data"
    }
   ],
   "source": [
    "plot(Q, v)\n",
    "\n",
    "\n",
    "print(v[:5])\n",
    "print(v[-5:])"
   ]
  },
  {
   "cell_type": "code",
   "execution_count": 7,
   "metadata": {
    "collapsed": false
   },
   "outputs": [
    {
     "name": "stdout",
     "output_type": "stream",
     "text": [
      "[0.048490943081664274, 0.04823482537643047, 0.04798139384301924, 0.047730606416233716, 0.04748242192014472]\n",
      "[0.008278779908456801, 0.008272410352078348, 0.008266051077310238, 0.008259702058300232, 0.008253363269286641]\n"
     ]
    },
    {
     "data": {
      "image/png": "[encoded data removed]",
      "text/plain": [
       "<matplotlib.figure.Figure at 0x7fcf60991cf8>"
      ]
     },
     "metadata": {},
     "output_type": "display_data"
    }
   ],
   "source": [
    "plot(Q, rho)\n",
    "\n",
    "\n",
    "print(rho[:5])\n",
    "print(rho[-5:])"
   ]
  },
  {
   "cell_type": "code",
   "execution_count": 8,
   "metadata": {
    "collapsed": false
   },
   "outputs": [
    {
     "name": "stdout",
     "output_type": "stream",
     "text": [
      "[0.07282104673660325, 0.07282104673660325, 0.07301555300612858, 0.07320956163095967, 0.07340307658042163]\n",
      "[0.17932177316637762, 0.17939378094217814, 0.17946575889016686, 0.17953770705726738, 0.17960962549026635]\n"
     ]
    },
    {
     "data": {
      "image/png": "[encoded data removed]",
      "text/plain": [
       "<matplotlib.figure.Figure at 0x7fcf607e4ac8>"
      ]
     },
     "metadata": {},
     "output_type": "display_data"
    }
   ],
   "source": [
    "plot(Q, Ma)\n",
    "\n",
    "\n",
    "print(Ma[:5])\n",
    "print(Ma[-5:])"
   ]
  }
 ],
 "metadata": {
  "kernelspec": {
   "display_name": "Python 3",
   "language": "python",
   "name": "python3"
  },
  "language_info": {
   "codemirror_mode": {
    "name": "ipython",
    "version": 3
   },
   "file_extension": ".py",
   "mimetype": "text/x-python",
   "name": "python",
   "nbconvert_exporter": "python",
   "pygments_lexer": "ipython3",
   "version": "3.6.4"
  }
 },
 "nbformat": 4,
 "nbformat_minor": 2
}
